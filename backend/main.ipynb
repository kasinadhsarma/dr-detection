{
 "cells": [
  {
   "cell_type": "code",
   "execution_count": 1,
   "id": "008280c1-306b-4dd5-8e02-7f5e0aa6c2a1",
   "metadata": {},
   "outputs": [
    {
     "name": "stdout",
     "output_type": "stream",
     "text": [
      "Defaulting to user installation because normal site-packages is not writeable\n",
      "Requirement already satisfied: fastapi==0.115.6 in /home/kasinadhsarma/.local/lib/python3.10/site-packages (from -r requirements.txt (line 1)) (0.115.6)\n",
      "Requirement already satisfied: uvicorn==0.32.1 in /home/kasinadhsarma/.local/lib/python3.10/site-packages (from uvicorn[standard]==0.32.1->-r requirements.txt (line 2)) (0.32.1)\n",
      "Requirement already satisfied: python-multipart==0.0.19 in /home/kasinadhsarma/.local/lib/python3.10/site-packages (from -r requirements.txt (line 3)) (0.0.19)\n",
      "Requirement already satisfied: pillow==11.1.0 in /home/kasinadhsarma/.local/lib/python3.10/site-packages (from -r requirements.txt (line 4)) (11.1.0)\n",
      "Requirement already satisfied: numpy==1.26.4 in /home/kasinadhsarma/.local/lib/python3.10/site-packages (from -r requirements.txt (line 5)) (1.26.4)\n",
      "Requirement already satisfied: opencv-python-headless==4.10.0.84 in /home/kasinadhsarma/.local/lib/python3.10/site-packages (from -r requirements.txt (line 6)) (4.10.0.84)\n",
      "Requirement already satisfied: tensorflow==2.18.0 in /home/kasinadhsarma/.local/lib/python3.10/site-packages (from -r requirements.txt (line 7)) (2.18.0)\n",
      "Requirement already satisfied: watchfiles==1.0.0 in /home/kasinadhsarma/.local/lib/python3.10/site-packages (from -r requirements.txt (line 8)) (1.0.0)\n",
      "Requirement already satisfied: albumentations==1.4.24 in /home/kasinadhsarma/.local/lib/python3.10/site-packages (from -r requirements.txt (line 9)) (1.4.24)\n",
      "Requirement already satisfied: opencv-python==4.10.0.84 in /home/kasinadhsarma/.local/lib/python3.10/site-packages (from -r requirements.txt (line 10)) (4.10.0.84)\n",
      "Requirement already satisfied: pandas==2.2.3 in /home/kasinadhsarma/.local/lib/python3.10/site-packages (from -r requirements.txt (line 11)) (2.2.3)\n",
      "Requirement already satisfied: scikit-learn==1.1.3 in /home/kasinadhsarma/.local/lib/python3.10/site-packages (from -r requirements.txt (line 12)) (1.1.3)\n",
      "Requirement already satisfied: tqdm==4.67.1 in /home/kasinadhsarma/.local/lib/python3.10/site-packages (from -r requirements.txt (line 13)) (4.67.1)\n",
      "Requirement already satisfied: kaggle==1.5.12 in /home/kasinadhsarma/.local/lib/python3.10/site-packages (from -r requirements.txt (line 14)) (1.5.12)\n",
      "Requirement already satisfied: starlette<0.42.0,>=0.40.0 in /home/kasinadhsarma/.local/lib/python3.10/site-packages (from fastapi==0.115.6->-r requirements.txt (line 1)) (0.41.3)\n",
      "Requirement already satisfied: pydantic!=1.8,!=1.8.1,!=2.0.0,!=2.0.1,!=2.1.0,<3.0.0,>=1.7.4 in /home/kasinadhsarma/.local/lib/python3.10/site-packages (from fastapi==0.115.6->-r requirements.txt (line 1)) (2.10.3)\n",
      "Requirement already satisfied: typing-extensions>=4.8.0 in /home/kasinadhsarma/.local/lib/python3.10/site-packages (from fastapi==0.115.6->-r requirements.txt (line 1)) (4.12.2)\n",
      "Requirement already satisfied: click>=7.0 in /home/kasinadhsarma/.local/lib/python3.10/site-packages (from uvicorn==0.32.1->uvicorn[standard]==0.32.1->-r requirements.txt (line 2)) (8.1.7)\n",
      "Requirement already satisfied: h11>=0.8 in /home/kasinadhsarma/.local/lib/python3.10/site-packages (from uvicorn==0.32.1->uvicorn[standard]==0.32.1->-r requirements.txt (line 2)) (0.14.0)\n",
      "Requirement already satisfied: absl-py>=1.0.0 in /home/kasinadhsarma/.local/lib/python3.10/site-packages (from tensorflow==2.18.0->-r requirements.txt (line 7)) (1.4.0)\n",
      "Requirement already satisfied: astunparse>=1.6.0 in /home/kasinadhsarma/.local/lib/python3.10/site-packages (from tensorflow==2.18.0->-r requirements.txt (line 7)) (1.6.3)\n",
      "Requirement already satisfied: flatbuffers>=24.3.25 in /home/kasinadhsarma/.local/lib/python3.10/site-packages (from tensorflow==2.18.0->-r requirements.txt (line 7)) (24.3.25)\n",
      "Requirement already satisfied: gast!=0.5.0,!=0.5.1,!=0.5.2,>=0.2.1 in /home/kasinadhsarma/.local/lib/python3.10/site-packages (from tensorflow==2.18.0->-r requirements.txt (line 7)) (0.4.0)\n",
      "Requirement already satisfied: google-pasta>=0.1.1 in /home/kasinadhsarma/.local/lib/python3.10/site-packages (from tensorflow==2.18.0->-r requirements.txt (line 7)) (0.2.0)\n",
      "Requirement already satisfied: libclang>=13.0.0 in /home/kasinadhsarma/.local/lib/python3.10/site-packages (from tensorflow==2.18.0->-r requirements.txt (line 7)) (18.1.1)\n",
      "Requirement already satisfied: opt-einsum>=2.3.2 in /home/kasinadhsarma/.local/lib/python3.10/site-packages (from tensorflow==2.18.0->-r requirements.txt (line 7)) (3.4.0)\n",
      "Requirement already satisfied: packaging in /home/kasinadhsarma/.local/lib/python3.10/site-packages (from tensorflow==2.18.0->-r requirements.txt (line 7)) (24.2)\n",
      "Requirement already satisfied: protobuf!=4.21.0,!=4.21.1,!=4.21.2,!=4.21.3,!=4.21.4,!=4.21.5,<6.0.0dev,>=3.20.3 in /home/kasinadhsarma/.local/lib/python3.10/site-packages (from tensorflow==2.18.0->-r requirements.txt (line 7)) (4.23.3)\n",
      "Requirement already satisfied: requests<3,>=2.21.0 in /home/kasinadhsarma/.local/lib/python3.10/site-packages (from tensorflow==2.18.0->-r requirements.txt (line 7)) (2.32.3)\n",
      "Requirement already satisfied: setuptools in /home/kasinadhsarma/.local/lib/python3.10/site-packages (from tensorflow==2.18.0->-r requirements.txt (line 7)) (75.6.0)\n",
      "Requirement already satisfied: six>=1.12.0 in /usr/lib/python3/dist-packages (from tensorflow==2.18.0->-r requirements.txt (line 7)) (1.16.0)\n",
      "Requirement already satisfied: termcolor>=1.1.0 in /home/kasinadhsarma/.local/lib/python3.10/site-packages (from tensorflow==2.18.0->-r requirements.txt (line 7)) (2.5.0)\n",
      "Requirement already satisfied: wrapt>=1.11.0 in /home/kasinadhsarma/.local/lib/python3.10/site-packages (from tensorflow==2.18.0->-r requirements.txt (line 7)) (1.14.1)\n",
      "Requirement already satisfied: grpcio<2.0,>=1.24.3 in /home/kasinadhsarma/.local/lib/python3.10/site-packages (from tensorflow==2.18.0->-r requirements.txt (line 7)) (1.68.1)\n",
      "Requirement already satisfied: tensorboard<2.19,>=2.18 in /home/kasinadhsarma/.local/lib/python3.10/site-packages (from tensorflow==2.18.0->-r requirements.txt (line 7)) (2.18.0)\n",
      "Requirement already satisfied: keras>=3.5.0 in /home/kasinadhsarma/.local/lib/python3.10/site-packages (from tensorflow==2.18.0->-r requirements.txt (line 7)) (3.8.0)\n",
      "Requirement already satisfied: h5py>=3.11.0 in /home/kasinadhsarma/.local/lib/python3.10/site-packages (from tensorflow==2.18.0->-r requirements.txt (line 7)) (3.12.1)\n",
      "Requirement already satisfied: ml-dtypes<0.5.0,>=0.4.0 in /home/kasinadhsarma/.local/lib/python3.10/site-packages (from tensorflow==2.18.0->-r requirements.txt (line 7)) (0.4.1)\n",
      "Requirement already satisfied: tensorflow-io-gcs-filesystem>=0.23.1 in /home/kasinadhsarma/.local/lib/python3.10/site-packages (from tensorflow==2.18.0->-r requirements.txt (line 7)) (0.32.0)\n",
      "Requirement already satisfied: anyio>=3.0.0 in /home/kasinadhsarma/.local/lib/python3.10/site-packages (from watchfiles==1.0.0->-r requirements.txt (line 8)) (4.7.0)\n",
      "Requirement already satisfied: scipy>=1.10.0 in /home/kasinadhsarma/.local/lib/python3.10/site-packages (from albumentations==1.4.24->-r requirements.txt (line 9)) (1.14.1)\n",
      "Requirement already satisfied: PyYAML in /home/kasinadhsarma/.local/lib/python3.10/site-packages (from albumentations==1.4.24->-r requirements.txt (line 9)) (6.0.2)\n",
      "Requirement already satisfied: albucore==0.0.23 in /home/kasinadhsarma/.local/lib/python3.10/site-packages (from albumentations==1.4.24->-r requirements.txt (line 9)) (0.0.23)\n",
      "Requirement already satisfied: python-dateutil>=2.8.2 in /home/kasinadhsarma/.local/lib/python3.10/site-packages (from pandas==2.2.3->-r requirements.txt (line 11)) (2.8.2)\n",
      "Requirement already satisfied: pytz>=2020.1 in /usr/lib/python3/dist-packages (from pandas==2.2.3->-r requirements.txt (line 11)) (2022.1)\n",
      "Requirement already satisfied: tzdata>=2022.7 in /home/kasinadhsarma/.local/lib/python3.10/site-packages (from pandas==2.2.3->-r requirements.txt (line 11)) (2024.2)\n",
      "Requirement already satisfied: joblib>=1.0.0 in /home/kasinadhsarma/.local/lib/python3.10/site-packages (from scikit-learn==1.1.3->-r requirements.txt (line 12)) (1.2.0)\n",
      "Requirement already satisfied: threadpoolctl>=2.0.0 in /home/kasinadhsarma/.local/lib/python3.10/site-packages (from scikit-learn==1.1.3->-r requirements.txt (line 12)) (3.5.0)\n",
      "Requirement already satisfied: certifi in /home/kasinadhsarma/.local/lib/python3.10/site-packages (from kaggle==1.5.12->-r requirements.txt (line 14)) (2024.8.30)\n",
      "Requirement already satisfied: python-slugify in /home/kasinadhsarma/.local/lib/python3.10/site-packages (from kaggle==1.5.12->-r requirements.txt (line 14)) (8.0.4)\n",
      "Requirement already satisfied: urllib3 in /home/kasinadhsarma/.local/lib/python3.10/site-packages (from kaggle==1.5.12->-r requirements.txt (line 14)) (2.2.3)\n",
      "Requirement already satisfied: httptools>=0.6.3 in /home/kasinadhsarma/.local/lib/python3.10/site-packages (from uvicorn[standard]==0.32.1->-r requirements.txt (line 2)) (0.6.4)\n",
      "Requirement already satisfied: python-dotenv>=0.13 in /home/kasinadhsarma/.local/lib/python3.10/site-packages (from uvicorn[standard]==0.32.1->-r requirements.txt (line 2)) (1.0.1)\n",
      "Requirement already satisfied: uvloop!=0.15.0,!=0.15.1,>=0.14.0 in /home/kasinadhsarma/.local/lib/python3.10/site-packages (from uvicorn[standard]==0.32.1->-r requirements.txt (line 2)) (0.21.0)\n",
      "Requirement already satisfied: websockets>=10.4 in /home/kasinadhsarma/.local/lib/python3.10/site-packages (from uvicorn[standard]==0.32.1->-r requirements.txt (line 2)) (10.4)\n",
      "Requirement already satisfied: stringzilla>=3.10.4 in /home/kasinadhsarma/.local/lib/python3.10/site-packages (from albucore==0.0.23->albumentations==1.4.24->-r requirements.txt (line 9)) (3.11.3)\n",
      "Requirement already satisfied: simsimd>=5.9.2 in /home/kasinadhsarma/.local/lib/python3.10/site-packages (from albucore==0.0.23->albumentations==1.4.24->-r requirements.txt (line 9)) (6.2.1)\n",
      "Requirement already satisfied: exceptiongroup>=1.0.2 in /home/kasinadhsarma/.local/lib/python3.10/site-packages (from anyio>=3.0.0->watchfiles==1.0.0->-r requirements.txt (line 8)) (1.2.2)\n",
      "Requirement already satisfied: idna>=2.8 in /usr/lib/python3/dist-packages (from anyio>=3.0.0->watchfiles==1.0.0->-r requirements.txt (line 8)) (3.3)\n",
      "Requirement already satisfied: sniffio>=1.1 in /home/kasinadhsarma/.local/lib/python3.10/site-packages (from anyio>=3.0.0->watchfiles==1.0.0->-r requirements.txt (line 8)) (1.3.1)\n",
      "Requirement already satisfied: wheel<1.0,>=0.23.0 in /home/kasinadhsarma/.local/lib/python3.10/site-packages (from astunparse>=1.6.0->tensorflow==2.18.0->-r requirements.txt (line 7)) (0.45.1)\n",
      "Requirement already satisfied: rich in /home/kasinadhsarma/.local/lib/python3.10/site-packages (from keras>=3.5.0->tensorflow==2.18.0->-r requirements.txt (line 7)) (13.9.4)\n",
      "Requirement already satisfied: namex in /home/kasinadhsarma/.local/lib/python3.10/site-packages (from keras>=3.5.0->tensorflow==2.18.0->-r requirements.txt (line 7)) (0.0.8)\n",
      "Requirement already satisfied: optree in /home/kasinadhsarma/.local/lib/python3.10/site-packages (from keras>=3.5.0->tensorflow==2.18.0->-r requirements.txt (line 7)) (0.13.1)\n",
      "Requirement already satisfied: annotated-types>=0.6.0 in /home/kasinadhsarma/.local/lib/python3.10/site-packages (from pydantic!=1.8,!=1.8.1,!=2.0.0,!=2.0.1,!=2.1.0,<3.0.0,>=1.7.4->fastapi==0.115.6->-r requirements.txt (line 1)) (0.7.0)\n",
      "Requirement already satisfied: pydantic-core==2.27.1 in /home/kasinadhsarma/.local/lib/python3.10/site-packages (from pydantic!=1.8,!=1.8.1,!=2.0.0,!=2.0.1,!=2.1.0,<3.0.0,>=1.7.4->fastapi==0.115.6->-r requirements.txt (line 1)) (2.27.1)\n",
      "Requirement already satisfied: charset-normalizer<4,>=2 in /home/kasinadhsarma/.local/lib/python3.10/site-packages (from requests<3,>=2.21.0->tensorflow==2.18.0->-r requirements.txt (line 7)) (3.4.0)\n",
      "Requirement already satisfied: markdown>=2.6.8 in /home/kasinadhsarma/.local/lib/python3.10/site-packages (from tensorboard<2.19,>=2.18->tensorflow==2.18.0->-r requirements.txt (line 7)) (3.7)\n",
      "Requirement already satisfied: tensorboard-data-server<0.8.0,>=0.7.0 in /home/kasinadhsarma/.local/lib/python3.10/site-packages (from tensorboard<2.19,>=2.18->tensorflow==2.18.0->-r requirements.txt (line 7)) (0.7.2)\n",
      "Requirement already satisfied: werkzeug>=1.0.1 in /home/kasinadhsarma/.local/lib/python3.10/site-packages (from tensorboard<2.19,>=2.18->tensorflow==2.18.0->-r requirements.txt (line 7)) (3.1.3)\n",
      "Requirement already satisfied: text-unidecode>=1.3 in /home/kasinadhsarma/.local/lib/python3.10/site-packages (from python-slugify->kaggle==1.5.12->-r requirements.txt (line 14)) (1.3)\n",
      "Requirement already satisfied: MarkupSafe>=2.1.1 in /home/kasinadhsarma/.local/lib/python3.10/site-packages (from werkzeug>=1.0.1->tensorboard<2.19,>=2.18->tensorflow==2.18.0->-r requirements.txt (line 7)) (3.0.2)\n",
      "Requirement already satisfied: markdown-it-py>=2.2.0 in /home/kasinadhsarma/.local/lib/python3.10/site-packages (from rich->keras>=3.5.0->tensorflow==2.18.0->-r requirements.txt (line 7)) (3.0.0)\n",
      "Requirement already satisfied: pygments<3.0.0,>=2.13.0 in /home/kasinadhsarma/.local/lib/python3.10/site-packages (from rich->keras>=3.5.0->tensorflow==2.18.0->-r requirements.txt (line 7)) (2.18.0)\n",
      "Requirement already satisfied: mdurl~=0.1 in /home/kasinadhsarma/.local/lib/python3.10/site-packages (from markdown-it-py>=2.2.0->rich->keras>=3.5.0->tensorflow==2.18.0->-r requirements.txt (line 7)) (0.1.2)\n"
     ]
    }
   ],
   "source": [
    "!pip install -r requirements.txt"
   ]
  },
  {
   "cell_type": "code",
   "execution_count": null,
   "id": "38e8ffb6-9683-466c-bf92-2ad3f2fd3f85",
   "metadata": {},
   "outputs": [],
   "source": []
  }
 ],
 "metadata": {
  "kernelspec": {
   "display_name": "Python 3 (ipykernel)",
   "language": "python",
   "name": "python3"
  },
  "language_info": {
   "codemirror_mode": {
    "name": "ipython",
    "version": 3
   },
   "file_extension": ".py",
   "mimetype": "text/x-python",
   "name": "python",
   "nbconvert_exporter": "python",
   "pygments_lexer": "ipython3",
   "version": "3.10.12"
  }
 },
 "nbformat": 4,
 "nbformat_minor": 5
}
